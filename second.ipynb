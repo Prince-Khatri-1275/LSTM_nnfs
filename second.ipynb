{
 "cells": [
  {
   "cell_type": "code",
   "execution_count": 1,
   "id": "bf6597a4-c32e-4205-b005-66882a87169f",
   "metadata": {},
   "outputs": [],
   "source": [
    "import numpy as np"
   ]
  },
  {
   "cell_type": "code",
   "execution_count": null,
   "id": "75ca4d74-dc8a-4283-a624-c29bd3cee073",
   "metadata": {},
   "outputs": [],
   "source": [
    "class BaseLayer:\n",
    "    def forward(self, inputs):\n",
    "        ...\n",
    "\n",
    "    def backward(self, d_values):\n",
    "        ...\n",
    "\n",
    "    def __call__(self, inputs, backward_pass=False):\n",
    "        if backward_pass:\n",
    "            return self.backward(inputs)\n",
    "        else:\n",
    "            self.forward(inputs)\n",
    "            \n",
    "class Linear:\n",
    "    def __init__(self, d_in, dout, keepbias=True):\n",
    "        self.W = np.random.randn(d_in, d_out) / np.sqrt(d_in)\n",
    "        self.keepbias = keepbias\n",
    "        if keepbias:\n",
    "            self.B = np.random.randn(d_out)\n",
    "\n",
    "    def forward(self, inputs):\n",
    "        self.inputs = inputs\n",
    "        return inputs @ self.W + self.B if self.keepbias else inputs @ self.W\n",
    "\n",
    "    def backward(self, d_values):\n",
    "        self.dW = inputs.transpose"
   ]
  }
 ],
 "metadata": {
  "kernelspec": {
   "display_name": "Python 3 (ipykernel)",
   "language": "python",
   "name": "python3"
  },
  "language_info": {
   "codemirror_mode": {
    "name": "ipython",
    "version": 3
   },
   "file_extension": ".py",
   "mimetype": "text/x-python",
   "name": "python",
   "nbconvert_exporter": "python",
   "pygments_lexer": "ipython3",
   "version": "3.12.10"
  }
 },
 "nbformat": 4,
 "nbformat_minor": 5
}
